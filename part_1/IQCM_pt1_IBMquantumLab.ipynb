{
 "cells": [
  {
   "cell_type": "code",
   "execution_count": 1,
   "id": "079d1c04-6e01-4148-b362-752a4ebf6dca",
   "metadata": {},
   "outputs": [],
   "source": [
    "import numpy as np\n",
    "\n",
    "# Importing standard Qiskit libraries\n",
    "from qiskit import QuantumCircuit, transpile, Aer, IBMQ\n",
    "from qiskit.tools.jupyter import *\n",
    "from qiskit.visualization import *\n",
    "from ibm_quantum_widgets import *\n",
    "from qiskit.providers.aer import QasmSimulator\n",
    "\n",
    "# Loading your IBM Quantum account(s)\n",
    "provider = IBMQ.load_account()"
   ]
  },
  {
   "cell_type": "code",
   "execution_count": 2,
   "id": "f1cff203-3e1e-4c45-9686-48f07b21f3ad",
   "metadata": {},
   "outputs": [
    {
     "data": {
      "text/plain": [
       "<qiskit.circuit.instructionset.InstructionSet at 0x7f7110c48610>"
      ]
     },
     "execution_count": 2,
     "metadata": {},
     "output_type": "execute_result"
    }
   ],
   "source": [
    "from qiskit import QuantumRegister, ClassicalRegister, QuantumCircuit, execute\n",
    "from numpy import pi\n",
    "\n",
    "# qreg_q = QuantumRegister(2, 'q')\n",
    "# creg_c = ClassicalRegister(2, 'c')\n",
    "# circuit = QuantumCircuit(qreg_q, creg_c)\n",
    "\n",
    "# circuit.h(qreg_q[0])\n",
    "# circuit.cx(qreg_q[0], qreg_q[1])\n",
    "# circuit.measure(qreg_q[0], creg_c[0])\n",
    "# circuit.measure(qreg_q[1], creg_c[1])\n",
    "\n",
    "qc = QuantumCircuit(2,2)\n",
    "qc.h(0)\n",
    "qc.cx(0,1)\n",
    "qc.measure(0,0)\n",
    "qc.measure(1,1)\n"
   ]
  },
  {
   "cell_type": "code",
   "execution_count": 3,
   "id": "aa5a27f2-4ccc-49ed-9f6d-d5c425045db2",
   "metadata": {},
   "outputs": [
    {
     "data": {
      "image/png": "[encoded data removed]",
      "text/plain": [
       "<Figure size 327.252x204.68 with 1 Axes>"
      ]
     },
     "execution_count": 3,
     "metadata": {},
     "output_type": "execute_result"
    }
   ],
   "source": [
    "qc.draw()"
   ]
  },
  {
   "cell_type": "code",
   "execution_count": 4,
   "id": "74f30d6d-56e2-47e6-960f-c4775e4565f5",
   "metadata": {},
   "outputs": [
    {
     "data": {
      "text/plain": [
       "{'00': 508, '11': 516}"
      ]
     },
     "execution_count": 4,
     "metadata": {},
     "output_type": "execute_result"
    }
   ],
   "source": [
    "backend_sim = Aer.get_backend('qasm_simulator')\n",
    "job = execute(qc, backend_sim)\n",
    "result = job.result()\n",
    "result.get_counts()"
   ]
  },
  {
   "cell_type": "code",
   "execution_count": null,
   "id": "f8e10a2c-8c4d-4641-847d-82518a7a3b12",
   "metadata": {},
   "outputs": [],
   "source": [
    "backend_hwr = provider.get_backend('ibmq_manila')\n",
    "job = execute(qc, backend_hwr)\n",
    "result = job.result()\n",
    "result.get_counts()"
   ]
  },
  {
   "cell_type": "code",
   "execution_count": null,
   "id": "52c449cf-89f3-4fbc-8a07-222b74e294d6",
   "metadata": {},
   "outputs": [],
   "source": []
  }
 ],
 "metadata": {
  "kernelspec": {
   "display_name": "Qiskit v0.32.0 (ipykernel)",
   "language": "python",
   "name": "python3"
  },
  "language_info": {
   "codemirror_mode": {
    "name": "ipython",
    "version": 3
   },
   "file_extension": ".py",
   "mimetype": "text/x-python",
   "name": "python",
   "nbconvert_exporter": "python",
   "pygments_lexer": "ipython3",
   "version": "3.8.10"
  },
  "widgets": {
   "application/vnd.jupyter.widget-state+json": {
    "state": {
     "071514ebe6fd4c7db925a33d82295cee": {
      "model_module": "@jupyter-widgets/controls",
      "model_module_version": "1.5.0",
      "model_name": "ButtonStyleModel",
      "state": {}
     },
     "0870670c4d8b45be87aa24df0d2001fa": {
      "model_module": "@jupyter-widgets/base",
      "model_module_version": "1.2.0",
      "model_name": "LayoutModel",
      "state": {
       "margin": "0px 5px 0px 0px",
       "width": "32px"
      }
     },
     "0c2392de99d342f9aa76cc6c5bd90108": {
      "model_module": "@jupyter-widgets/controls",
      "model_module_version": "1.5.0",
      "model_name": "HTMLModel",
      "state": {
       "layout": "IPY_MODEL_cc9218dc833c476bb4f7534f95a41615",
       "style": "IPY_MODEL_46953c176ce648fd8ebe70ef14c3af4a",
       "value": "ibmq_manila"
      }
     },
     "0f7e45f12c4e4ed8b2ec4cfa3fac7b07": {
      "model_module": "@jupyter-widgets/controls",
      "model_module_version": "1.5.0",
      "model_name": "ButtonStyleModel",
      "state": {
       "button_color": "white"
      }
     },
     "2048c24920fc49bbb707a4fbafd726a5": {
      "model_module": "@jupyter-widgets/controls",
      "model_module_version": "1.5.0",
      "model_name": "HTMLModel",
      "state": {
       "layout": "IPY_MODEL_735e788fc5b949f8bbb17cb6c306a717",
       "style": "IPY_MODEL_b36eb38cbf4a41349a0c3ab4fa72f442",
       "value": "QUEUED"
      }
     },
     "21e82981b46f42de9941afbd37a751b4": {
      "model_module": "@jupyter-widgets/base",
      "model_module_version": "1.2.0",
      "model_name": "LayoutModel",
      "state": {
       "width": "190px"
      }
     },
     "271158f01bee40db94428911c3e6efb6": {
      "model_module": "@jupyter-widgets/base",
      "model_module_version": "1.2.0",
      "model_name": "LayoutModel",
      "state": {
       "max_width": "700px",
       "min_width": "700px"
      }
     },
     "2e0aace79fef4f0cba1ae953bfa9b447": {
      "model_module": "@jupyter-widgets/base",
      "model_module_version": "1.2.0",
      "model_name": "LayoutModel",
      "state": {
       "grid_template_areas": "\n                                       \". . . . right \"\n                                        ",
       "grid_template_columns": "20% 20% 20% 20% 20%",
       "width": "100%"
      }
     },
     "2f2df3edc2ab4163bcd43e28b9c04e96": {
      "model_module": "@jupyter-widgets/controls",
      "model_module_version": "1.5.0",
      "model_name": "HTMLModel",
      "state": {
       "layout": "IPY_MODEL_82d38f8a5a724307a3c79dcfbeb4ac78",
       "style": "IPY_MODEL_80eabdbcd9224c17acad369f414ab954",
       "value": "<h5>Backend</h5>"
      }
     },
     "344f077ecd494744ae2d31cc2807e356": {
      "model_module": "@jupyter-widgets/controls",
      "model_module_version": "1.5.0",
      "model_name": "DescriptionStyleModel",
      "state": {
       "description_width": ""
      }
     },
     "3880b79dd93a407fb06881e9f6ec1666": {
      "model_module": "@jupyter-widgets/controls",
      "model_module_version": "1.5.0",
      "model_name": "DescriptionStyleModel",
      "state": {
       "description_width": ""
      }
     },
     "3f69f6af3877495db5b749e686b8da17": {
      "model_module": "@jupyter-widgets/controls",
      "model_module_version": "1.5.0",
      "model_name": "GridBoxModel",
      "state": {
       "children": [
        "IPY_MODEL_eeb25d75ff4d46c4a7b5f55cbf568dbd"
       ],
       "layout": "IPY_MODEL_2e0aace79fef4f0cba1ae953bfa9b447"
      }
     },
     "46953c176ce648fd8ebe70ef14c3af4a": {
      "model_module": "@jupyter-widgets/controls",
      "model_module_version": "1.5.0",
      "model_name": "DescriptionStyleModel",
      "state": {
       "description_width": ""
      }
     },
     "4e5f224220f948708eb4106df3f665bd": {
      "model_module": "@jupyter-widgets/base",
      "model_module_version": "1.2.0",
      "model_name": "LayoutModel",
      "state": {}
     },
     "4e94bd1e234447849d7150e42c94ad47": {
      "model_module": "@jupyter-widgets/base",
      "model_module_version": "1.2.0",
      "model_name": "LayoutModel",
      "state": {
       "margin": "0px 0px 10px 0px"
      }
     },
     "4eeb1386dfae4a728c5d7ddf73e779af": {
      "model_module": "@jupyter-widgets/controls",
      "model_module_version": "1.5.0",
      "model_name": "HTMLModel",
      "state": {
       "layout": "IPY_MODEL_4e94bd1e234447849d7150e42c94ad47",
       "style": "IPY_MODEL_afecc1d9382344839ac4a7e3ee993516",
       "value": "<p style='font-family: IBM Plex Sans, Arial, Helvetica, sans-serif; font-size: 20px; font-weight: medium;'>Circuit Properties</p>"
      }
     },
     "569b87e961ad49009c0e7dead2213df2": {
      "model_module": "@jupyter-widgets/controls",
      "model_module_version": "1.5.0",
      "model_name": "HTMLModel",
      "state": {
       "layout": "IPY_MODEL_9dc03778fcab4ca7994bd224b113fd59",
       "style": "IPY_MODEL_a4c0a2ddc8c84a9ab68c8131a5529d76",
       "value": "<h5>Status</h5>"
      }
     },
     "5c01a6c6545647f4a5bb4183ea99f4d8": {
      "model_module": "@jupyter-widgets/controls",
      "model_module_version": "1.5.0",
      "model_name": "DescriptionStyleModel",
      "state": {
       "description_width": ""
      }
     },
     "641d27155967449d9dd6cc050dba051d": {
      "model_module": "@jupyter-widgets/controls",
      "model_module_version": "1.5.0",
      "model_name": "ButtonModel",
      "state": {
       "icon": "close",
       "layout": "IPY_MODEL_0870670c4d8b45be87aa24df0d2001fa",
       "style": "IPY_MODEL_0f7e45f12c4e4ed8b2ec4cfa3fac7b07"
      }
     },
     "6873bfa0306e492aaa50c7cacf5c2cd3": {
      "model_module": "@jupyter-widgets/base",
      "model_module_version": "1.2.0",
      "model_name": "LayoutModel",
      "state": {
       "grid_area": "right",
       "padding": "0px 0px 0px 0px",
       "width": "70px"
      }
     },
     "68d1abfbbd19485eadd61322a4771b4e": {
      "model_module": "@jupyter-widgets/base",
      "model_module_version": "1.2.0",
      "model_name": "LayoutModel",
      "state": {
       "margin": "0px 0px 0px 37px",
       "width": "600px"
      }
     },
     "6b1a576fd7ba45bfa4f176e6805ac208": {
      "model_module": "@jupyter-widgets/controls",
      "model_module_version": "1.5.0",
      "model_name": "HTMLModel",
      "state": {
       "layout": "IPY_MODEL_a83c1dfe76bf43009b5139efe1260d10",
       "style": "IPY_MODEL_3880b79dd93a407fb06881e9f6ec1666",
       "value": "619837405388d888ef3e3004"
      }
     },
     "735e788fc5b949f8bbb17cb6c306a717": {
      "model_module": "@jupyter-widgets/base",
      "model_module_version": "1.2.0",
      "model_name": "LayoutModel",
      "state": {
       "width": "95px"
      }
     },
     "7eacb5c2a33944bbb03b5e7a13f8d52a": {
      "model_module": "@jupyter-widgets/controls",
      "model_module_version": "1.5.0",
      "model_name": "DescriptionStyleModel",
      "state": {
       "description_width": ""
      }
     },
     "80eabdbcd9224c17acad369f414ab954": {
      "model_module": "@jupyter-widgets/controls",
      "model_module_version": "1.5.0",
      "model_name": "DescriptionStyleModel",
      "state": {
       "description_width": ""
      }
     },
     "82d38f8a5a724307a3c79dcfbeb4ac78": {
      "model_module": "@jupyter-widgets/base",
      "model_module_version": "1.2.0",
      "model_name": "LayoutModel",
      "state": {
       "width": "145px"
      }
     },
     "91c2b583e1b6446fab9c0f4ab6406bb5": {
      "model_module": "@jupyter-widgets/controls",
      "model_module_version": "1.5.0",
      "model_name": "HTMLModel",
      "state": {
       "layout": "IPY_MODEL_21e82981b46f42de9941afbd37a751b4",
       "style": "IPY_MODEL_da895314fdea43ae9d4c71a20efd621a",
       "value": "<h5>Job ID</h5>"
      }
     },
     "9ba39fae526d49ba87cfe9ead2cb8bbb": {
      "model_module": "@jupyter-widgets/controls",
      "model_module_version": "1.5.0",
      "model_name": "HTMLModel",
      "state": {
       "layout": "IPY_MODEL_4e5f224220f948708eb4106df3f665bd",
       "style": "IPY_MODEL_344f077ecd494744ae2d31cc2807e356",
       "value": "<h5>Message</h5>"
      }
     },
     "9dc03778fcab4ca7994bd224b113fd59": {
      "model_module": "@jupyter-widgets/base",
      "model_module_version": "1.2.0",
      "model_name": "LayoutModel",
      "state": {
       "width": "95px"
      }
     },
     "a4c0a2ddc8c84a9ab68c8131a5529d76": {
      "model_module": "@jupyter-widgets/controls",
      "model_module_version": "1.5.0",
      "model_name": "DescriptionStyleModel",
      "state": {
       "description_width": ""
      }
     },
     "a83c1dfe76bf43009b5139efe1260d10": {
      "model_module": "@jupyter-widgets/base",
      "model_module_version": "1.2.0",
      "model_name": "LayoutModel",
      "state": {
       "width": "190px"
      }
     },
     "a997f4f55d324b2fbc9ac1cd0e95f361": {
      "model_module": "@jupyter-widgets/controls",
      "model_module_version": "1.5.0",
      "model_name": "HTMLModel",
      "state": {
       "layout": "IPY_MODEL_e9d0bce24d84427ea165d5fbc7b9c3ea",
       "style": "IPY_MODEL_5c01a6c6545647f4a5bb4183ea99f4d8",
       "value": "job is queued"
      }
     },
     "aaed1e1fc5c84be7945eecea29a98f36": {
      "model_module": "@jupyter-widgets/controls",
      "model_module_version": "1.5.0",
      "model_name": "HTMLModel",
      "state": {
       "layout": "IPY_MODEL_ba3cc01617f54ec399573a9d144bcb35",
       "style": "IPY_MODEL_7eacb5c2a33944bbb03b5e7a13f8d52a",
       "value": "17"
      }
     },
     "afecc1d9382344839ac4a7e3ee993516": {
      "model_module": "@jupyter-widgets/controls",
      "model_module_version": "1.5.0",
      "model_name": "DescriptionStyleModel",
      "state": {
       "description_width": ""
      }
     },
     "b36eb38cbf4a41349a0c3ab4fa72f442": {
      "model_module": "@jupyter-widgets/controls",
      "model_module_version": "1.5.0",
      "model_name": "DescriptionStyleModel",
      "state": {
       "description_width": ""
      }
     },
     "ba3cc01617f54ec399573a9d144bcb35": {
      "model_module": "@jupyter-widgets/base",
      "model_module_version": "1.2.0",
      "model_name": "LayoutModel",
      "state": {
       "width": "70px"
      }
     },
     "bc411c8d69c749ba83dabcbbb332f52d": {
      "model_module": "@jupyter-widgets/controls",
      "model_module_version": "1.5.0",
      "model_name": "HBoxModel",
      "state": {
       "children": [
        "IPY_MODEL_641d27155967449d9dd6cc050dba051d",
        "IPY_MODEL_6b1a576fd7ba45bfa4f176e6805ac208",
        "IPY_MODEL_0c2392de99d342f9aa76cc6c5bd90108",
        "IPY_MODEL_2048c24920fc49bbb707a4fbafd726a5",
        "IPY_MODEL_aaed1e1fc5c84be7945eecea29a98f36",
        "IPY_MODEL_a997f4f55d324b2fbc9ac1cd0e95f361"
       ],
       "layout": "IPY_MODEL_271158f01bee40db94428911c3e6efb6"
      }
     },
     "ca63c84df37846b6b9044923509f4954": {
      "model_module": "@jupyter-widgets/controls",
      "model_module_version": "1.5.0",
      "model_name": "HBoxModel",
      "state": {
       "children": [
        "IPY_MODEL_91c2b583e1b6446fab9c0f4ab6406bb5",
        "IPY_MODEL_2f2df3edc2ab4163bcd43e28b9c04e96",
        "IPY_MODEL_569b87e961ad49009c0e7dead2213df2",
        "IPY_MODEL_d71cf108e8694b68a55c7cb7c9ea46cb",
        "IPY_MODEL_9ba39fae526d49ba87cfe9ead2cb8bbb"
       ],
       "layout": "IPY_MODEL_68d1abfbbd19485eadd61322a4771b4e"
      }
     },
     "cc9218dc833c476bb4f7534f95a41615": {
      "model_module": "@jupyter-widgets/base",
      "model_module_version": "1.2.0",
      "model_name": "LayoutModel",
      "state": {
       "width": "145px"
      }
     },
     "d71cf108e8694b68a55c7cb7c9ea46cb": {
      "model_module": "@jupyter-widgets/controls",
      "model_module_version": "1.5.0",
      "model_name": "HTMLModel",
      "state": {
       "layout": "IPY_MODEL_f066907d83d14291aab62158a317fc73",
       "style": "IPY_MODEL_d93b783afc8b42788520767c36097a40",
       "value": "<h5>Queue</h5>"
      }
     },
     "d93b783afc8b42788520767c36097a40": {
      "model_module": "@jupyter-widgets/controls",
      "model_module_version": "1.5.0",
      "model_name": "DescriptionStyleModel",
      "state": {
       "description_width": ""
      }
     },
     "da895314fdea43ae9d4c71a20efd621a": {
      "model_module": "@jupyter-widgets/controls",
      "model_module_version": "1.5.0",
      "model_name": "DescriptionStyleModel",
      "state": {
       "description_width": ""
      }
     },
     "e9d0bce24d84427ea165d5fbc7b9c3ea": {
      "model_module": "@jupyter-widgets/base",
      "model_module_version": "1.2.0",
      "model_name": "LayoutModel",
      "state": {
       "overflow_x": "scroll"
      }
     },
     "eeb25d75ff4d46c4a7b5f55cbf568dbd": {
      "model_module": "@jupyter-widgets/controls",
      "model_module_version": "1.5.0",
      "model_name": "ButtonModel",
      "state": {
       "button_style": "primary",
       "description": "Clear",
       "layout": "IPY_MODEL_6873bfa0306e492aaa50c7cacf5c2cd3",
       "style": "IPY_MODEL_071514ebe6fd4c7db925a33d82295cee"
      }
     },
     "f066907d83d14291aab62158a317fc73": {
      "model_module": "@jupyter-widgets/base",
      "model_module_version": "1.2.0",
      "model_name": "LayoutModel",
      "state": {
       "width": "70px"
      }
     }
    },
    "version_major": 2,
    "version_minor": 0
   }
  }
 },
 "nbformat": 4,
 "nbformat_minor": 5
}
